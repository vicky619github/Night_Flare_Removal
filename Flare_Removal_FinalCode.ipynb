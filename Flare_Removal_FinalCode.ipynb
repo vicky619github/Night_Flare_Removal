{
 "cells": [
  {
   "cell_type": "code",
   "execution_count": 1,
   "id": "5859225c",
   "metadata": {},
   "outputs": [],
   "source": [
    "import tensorflow as tf\n",
    "from tensorflow.keras import layers\n",
    "from tensorflow.keras.preprocessing.image import ImageDataGenerator\n",
    "import numpy as np\n",
    "from PIL import Image\n",
    "import matplotlib.pyplot as plt\n"
   ]
  },
  {
   "cell_type": "code",
   "execution_count": 2,
   "id": "d11cf9f2",
   "metadata": {},
   "outputs": [
    {
     "name": "stdout",
     "output_type": "stream",
     "text": [
      "Found 600 images belonging to 1 classes.\n",
      "Found 50 images belonging to 1 classes.\n"
     ]
    }
   ],
   "source": [
    "\n",
    "datagen = ImageDataGenerator(rescale=1./255, shear_range=0.2, zoom_range=0.2, horizontal_flip=True)\n",
    "\n",
    "training_set = datagen.flow_from_directory(\n",
    "    r'C:\\Users\\vickj\\Documents\\Computer Vision_Sem2_Mtech\\NigntFlare_Removal_MIPI\\FlareReal800_2k train dataset',\n",
    "    target_size=(64, 64),\n",
    "    batch_size=32,\n",
    "    class_mode='input',  # 'input' because input and output are the same for flare removal\n",
    "    color_mode='rgb'\n",
    ") \n",
    "\n",
    "test_set = datagen.flow_from_directory(\n",
    "    r'C:\\Users\\vickj\\Documents\\Computer Vision_Sem2_Mtech\\NigntFlare_Removal_MIPI\\Valid',\n",
    "    target_size=(64, 64),\n",
    "    batch_size=32,\n",
    "    class_mode='input',\n",
    "    color_mode='rgb'\n",
    ")\n"
   ]
  },
  {
   "cell_type": "code",
   "execution_count": 3,
   "id": "b3505d63",
   "metadata": {},
   "outputs": [],
   "source": [
    "def build_unet_model():\n",
    "    inputs = tf.keras.Input(shape=(64, 64, 3))\n",
    "\n",
    "    # Encoder\n",
    "    conv1 = layers.Conv2D(32, (3, 3), activation='relu', padding='same')(inputs)\n",
    "    pool1 = layers.MaxPooling2D(pool_size=(2, 2))(conv1)\n",
    "\n",
    "    conv2 = layers.Conv2D(64, (3, 3), activation='relu', padding='same')(pool1)\n",
    "    pool2 = layers.MaxPooling2D(pool_size=(2, 2))(conv2)\n",
    "\n",
    "    # Decoder\n",
    "    conv3 = layers.Conv2D(64, (3, 3), activation='relu', padding='same')(pool2)\n",
    "    up1 = layers.UpSampling2D(size=(2, 2))(conv3)\n",
    "\n",
    "    conv4 = layers.Conv2D(32, (3, 3), activation='relu', padding='same')(up1)\n",
    "    up2 = layers.UpSampling2D(size=(2, 2))(conv4)\n",
    "\n",
    "    # Output layer\n",
    "    outputs = layers.Conv2D(3, (3, 3), activation='linear', padding='same')(up2)\n",
    "\n",
    "    model = tf.keras.Model(inputs=inputs, outputs=outputs)\n",
    "    return model\n",
    "\n",
    "model = build_unet_model()\n"
   ]
  },
  {
   "cell_type": "code",
   "execution_count": 4,
   "id": "7bb6adc8",
   "metadata": {},
   "outputs": [
    {
     "name": "stdout",
     "output_type": "stream",
     "text": [
      "Epoch 1/25\n",
      "19/19 [==============================] - 42s 2s/step - loss: 0.0371 - accuracy: 0.3279 - val_loss: 0.0169 - val_accuracy: 0.3810\n",
      "Epoch 2/25\n",
      "19/19 [==============================] - 39s 2s/step - loss: 0.0154 - accuracy: 0.4056 - val_loss: 0.0118 - val_accuracy: 0.4136\n",
      "Epoch 3/25\n",
      "19/19 [==============================] - 34s 2s/step - loss: 0.0117 - accuracy: 0.5043 - val_loss: 0.0093 - val_accuracy: 0.4809\n",
      "Epoch 4/25\n",
      "19/19 [==============================] - 33s 2s/step - loss: 0.0101 - accuracy: 0.5947 - val_loss: 0.0087 - val_accuracy: 0.5776\n",
      "Epoch 5/25\n",
      "19/19 [==============================] - 33s 2s/step - loss: 0.0093 - accuracy: 0.6594 - val_loss: 0.0077 - val_accuracy: 0.6447\n",
      "Epoch 6/25\n",
      "19/19 [==============================] - 33s 2s/step - loss: 0.0087 - accuracy: 0.6816 - val_loss: 0.0071 - val_accuracy: 0.6877\n",
      "Epoch 7/25\n",
      "19/19 [==============================] - 33s 2s/step - loss: 0.0084 - accuracy: 0.7116 - val_loss: 0.0068 - val_accuracy: 0.7029\n",
      "Epoch 8/25\n",
      "19/19 [==============================] - 34s 2s/step - loss: 0.0081 - accuracy: 0.7179 - val_loss: 0.0065 - val_accuracy: 0.7133\n",
      "Epoch 9/25\n",
      "19/19 [==============================] - 33s 2s/step - loss: 0.0078 - accuracy: 0.7213 - val_loss: 0.0063 - val_accuracy: 0.7227\n",
      "Epoch 10/25\n",
      "19/19 [==============================] - 33s 2s/step - loss: 0.0077 - accuracy: 0.7338 - val_loss: 0.0061 - val_accuracy: 0.7355\n",
      "Epoch 11/25\n",
      "19/19 [==============================] - 42s 2s/step - loss: 0.0074 - accuracy: 0.7421 - val_loss: 0.0059 - val_accuracy: 0.7461\n",
      "Epoch 12/25\n",
      "19/19 [==============================] - 38s 2s/step - loss: 0.0074 - accuracy: 0.7490 - val_loss: 0.0058 - val_accuracy: 0.7383\n",
      "Epoch 13/25\n",
      "19/19 [==============================] - 39s 2s/step - loss: 0.0072 - accuracy: 0.7530 - val_loss: 0.0057 - val_accuracy: 0.7452\n",
      "Epoch 14/25\n",
      "19/19 [==============================] - 38s 2s/step - loss: 0.0071 - accuracy: 0.7591 - val_loss: 0.0057 - val_accuracy: 0.7494\n",
      "Epoch 15/25\n",
      "19/19 [==============================] - 38s 2s/step - loss: 0.0069 - accuracy: 0.7612 - val_loss: 0.0057 - val_accuracy: 0.7410\n",
      "Epoch 16/25\n",
      "19/19 [==============================] - 38s 2s/step - loss: 0.0069 - accuracy: 0.7543 - val_loss: 0.0055 - val_accuracy: 0.7539\n",
      "Epoch 17/25\n",
      "19/19 [==============================] - 38s 2s/step - loss: 0.0068 - accuracy: 0.7567 - val_loss: 0.0053 - val_accuracy: 0.7477\n",
      "Epoch 18/25\n",
      "19/19 [==============================] - 39s 2s/step - loss: 0.0067 - accuracy: 0.7581 - val_loss: 0.0053 - val_accuracy: 0.7541\n",
      "Epoch 19/25\n",
      "19/19 [==============================] - 38s 2s/step - loss: 0.0066 - accuracy: 0.7604 - val_loss: 0.0051 - val_accuracy: 0.7502\n",
      "Epoch 20/25\n",
      "19/19 [==============================] - 38s 2s/step - loss: 0.0066 - accuracy: 0.7618 - val_loss: 0.0059 - val_accuracy: 0.7577\n",
      "Epoch 21/25\n",
      "19/19 [==============================] - 38s 2s/step - loss: 0.0068 - accuracy: 0.7619 - val_loss: 0.0052 - val_accuracy: 0.7503\n",
      "Epoch 22/25\n",
      "19/19 [==============================] - 38s 2s/step - loss: 0.0064 - accuracy: 0.7574 - val_loss: 0.0051 - val_accuracy: 0.7530\n",
      "Epoch 23/25\n",
      "19/19 [==============================] - 37s 2s/step - loss: 0.0064 - accuracy: 0.7669 - val_loss: 0.0050 - val_accuracy: 0.7610\n",
      "Epoch 24/25\n",
      "19/19 [==============================] - 37s 2s/step - loss: 0.0064 - accuracy: 0.7682 - val_loss: 0.0048 - val_accuracy: 0.7602\n",
      "Epoch 25/25\n",
      "19/19 [==============================] - 37s 2s/step - loss: 0.0064 - accuracy: 0.7694 - val_loss: 0.0049 - val_accuracy: 0.7701\n"
     ]
    },
    {
     "data": {
      "text/plain": [
       "<keras.src.callbacks.History at 0x169093e8490>"
      ]
     },
     "execution_count": 4,
     "metadata": {},
     "output_type": "execute_result"
    }
   ],
   "source": [
    "\n",
    "model.compile(optimizer='adam', loss='mean_squared_error', metrics=['accuracy'])\n",
    "\n",
    "model.fit(x=training_set, validation_data=test_set, epochs=25)\n"
   ]
  },
  {
   "cell_type": "code",
   "execution_count": 5,
   "id": "91c54016",
   "metadata": {},
   "outputs": [
    {
     "name": "stdout",
     "output_type": "stream",
     "text": [
      "1/1 [==============================] - 4s 4s/step\n"
     ]
    },
    {
     "data": {
      "image/png": "[encoded data removed]",
      "text/plain": [
       "<Figure size 1200x400 with 2 Axes>"
      ]
     },
     "metadata": {},
     "output_type": "display_data"
    }
   ],
   "source": [
    "# Load a flare-corrupted image\n",
    "image_path = r'C:\\Users\\vickj\\Documents\\Computer Vision_Sem2_Mtech\\NigntFlare_Removal_MIPI\\Valid\\val_input_2k_bicubic\\004403.png'\n",
    "flare_corrupted_image = Image.open(image_path).resize((64, 64))\n",
    "flare_corrupted_image = np.array(flare_corrupted_image) / 255.0  # Normalize to [0, 1]\n",
    "flare_corrupted_image = np.expand_dims(flare_corrupted_image, axis=0)\n",
    "\n",
    "# Get the flare-removed image prediction\n",
    "flare_removed_image = model.predict(flare_corrupted_image)\n",
    "\n",
    "# Display the original, flare-corrupted, and flare-removed images in the notebook\n",
    "plt.figure(figsize=(12, 4))\n",
    "\n",
    "# Flare-corrupted image\n",
    "plt.subplot(1, 3, 2)\n",
    "plt.imshow(flare_corrupted_image[0])\n",
    "plt.title('Flare-Corrupted Image')\n",
    "\n",
    "# Flare-removed image\n",
    "plt.subplot(1, 3, 3)\n",
    "plt.imshow(flare_removed_image[0])\n",
    "plt.title('Flare-Removed Image')\n",
    "\n",
    "plt.show()\n"
   ]
  },
  {
   "cell_type": "code",
   "execution_count": 15,
   "id": "968bbd8b",
   "metadata": {},
   "outputs": [
    {
     "name": "stdout",
     "output_type": "stream",
     "text": [
      "Model: \"model\"\n",
      "_________________________________________________________________\n",
      " Layer (type)                Output Shape              Param #   \n",
      "=================================================================\n",
      " input_1 (InputLayer)        [(None, 64, 64, 3)]       0         \n",
      "                                                                 \n",
      " conv2d (Conv2D)             (None, 64, 64, 32)        896       \n",
      "                                                                 \n",
      " max_pooling2d (MaxPooling2  (None, 32, 32, 32)        0         \n",
      " D)                                                              \n",
      "                                                                 \n",
      " conv2d_1 (Conv2D)           (None, 32, 32, 64)        18496     \n",
      "                                                                 \n",
      " max_pooling2d_1 (MaxPoolin  (None, 16, 16, 64)        0         \n",
      " g2D)                                                            \n",
      "                                                                 \n",
      " conv2d_2 (Conv2D)           (None, 16, 16, 64)        36928     \n",
      "                                                                 \n",
      " up_sampling2d (UpSampling2  (None, 32, 32, 64)        0         \n",
      " D)                                                              \n",
      "                                                                 \n",
      " conv2d_3 (Conv2D)           (None, 32, 32, 32)        18464     \n",
      "                                                                 \n",
      " up_sampling2d_1 (UpSamplin  (None, 64, 64, 32)        0         \n",
      " g2D)                                                            \n",
      "                                                                 \n",
      " conv2d_4 (Conv2D)           (None, 64, 64, 3)         867       \n",
      "                                                                 \n",
      "=================================================================\n",
      "Total params: 75651 (295.51 KB)\n",
      "Trainable params: 75651 (295.51 KB)\n",
      "Non-trainable params: 0 (0.00 Byte)\n",
      "_________________________________________________________________\n"
     ]
    }
   ],
   "source": [
    "model.summary()\n"
   ]
  },
  {
   "cell_type": "code",
   "execution_count": 7,
   "id": "c5864759",
   "metadata": {},
   "outputs": [
    {
     "name": "stdout",
     "output_type": "stream",
     "text": [
      "1/1 [==============================] - 7s 7s/step\n",
      "1/1 [==============================] - 4s 4s/step\n",
      "1/1 [==============================] - 2s 2s/step\n",
      "1/1 [==============================] - 2s 2s/step\n",
      "1/1 [==============================] - 2s 2s/step\n",
      "1/1 [==============================] - 2s 2s/step\n",
      "1/1 [==============================] - 2s 2s/step\n",
      "1/1 [==============================] - 2s 2s/step\n",
      "1/1 [==============================] - 2s 2s/step\n",
      "1/1 [==============================] - 2s 2s/step\n",
      "1/1 [==============================] - 2s 2s/step\n",
      "1/1 [==============================] - 2s 2s/step\n",
      "1/1 [==============================] - 2s 2s/step\n",
      "1/1 [==============================] - 2s 2s/step\n",
      "1/1 [==============================] - 2s 2s/step\n",
      "1/1 [==============================] - 2s 2s/step\n",
      "1/1 [==============================] - 2s 2s/step\n",
      "1/1 [==============================] - 2s 2s/step\n",
      "1/1 [==============================] - 2s 2s/step\n",
      "1/1 [==============================] - 2s 2s/step\n",
      "1/1 [==============================] - 2s 2s/step\n",
      "1/1 [==============================] - 2s 2s/step\n",
      "1/1 [==============================] - 2s 2s/step\n",
      "1/1 [==============================] - 2s 2s/step\n",
      "1/1 [==============================] - 2s 2s/step\n",
      "1/1 [==============================] - 2s 2s/step\n",
      "1/1 [==============================] - 2s 2s/step\n",
      "1/1 [==============================] - 2s 2s/step\n",
      "1/1 [==============================] - 2s 2s/step\n",
      "1/1 [==============================] - 2s 2s/step\n",
      "1/1 [==============================] - 2s 2s/step\n",
      "1/1 [==============================] - 2s 2s/step\n",
      "1/1 [==============================] - 2s 2s/step\n",
      "1/1 [==============================] - 2s 2s/step\n",
      "1/1 [==============================] - 2s 2s/step\n",
      "1/1 [==============================] - 2s 2s/step\n",
      "1/1 [==============================] - 2s 2s/step\n",
      "1/1 [==============================] - 2s 2s/step\n",
      "1/1 [==============================] - 2s 2s/step\n",
      "1/1 [==============================] - 2s 2s/step\n",
      "1/1 [==============================] - 2s 2s/step\n",
      "1/1 [==============================] - 2s 2s/step\n",
      "1/1 [==============================] - 2s 2s/step\n",
      "1/1 [==============================] - 3s 3s/step\n",
      "1/1 [==============================] - 2s 2s/step\n",
      "1/1 [==============================] - 2s 2s/step\n",
      "1/1 [==============================] - 2s 2s/step\n",
      "1/1 [==============================] - 2s 2s/step\n",
      "1/1 [==============================] - 2s 2s/step\n",
      "1/1 [==============================] - 2s 2s/step\n"
     ]
    }
   ],
   "source": [
    "import os\n",
    "import numpy as np\n",
    "from PIL import Image\n",
    "import matplotlib.pyplot as plt\n",
    "\n",
    "\n",
    "import os\n",
    "\n",
    "# Specify the path to the directory containing validation images\n",
    "validation_directory = r'C:\\Users\\vickj\\Documents\\Computer Vision_Sem2_Mtech\\NigntFlare_Removal_MIPI\\Valid\\val_input_2k_bicubic'\n",
    "\n",
    "# Get a list of validation image names\n",
    "validation_image_names = os.listdir(validation_directory)\n",
    "\n",
    "# Continue with the rest of your code\n",
    "output_directory = r'C:\\Users\\vickj\\Documents\\Computer Vision_Sem2_Mtech\\NigntFlare_Removal_MIPI\\Output'\n",
    "os.makedirs(output_directory, exist_ok=True)\n",
    "\n",
    "# Loop through all validation images\n",
    "for image_name in validation_image_names:\n",
    "    # Load a flare-corrupted image\n",
    "    image_path = os.path.join(r'C:\\Users\\vickj\\Documents\\Computer Vision_Sem2_Mtech\\NigntFlare_Removal_MIPI\\Valid\\val_input_2k_bicubic', image_name)\n",
    "    flare_corrupted_image = Image.open(image_path).resize((64, 64))\n",
    "    flare_corrupted_image = np.array(flare_corrupted_image) / 255.0  # Normalize to [0, 1]\n",
    "    flare_corrupted_image = np.expand_dims(flare_corrupted_image, axis=0)\n",
    "\n",
    "    # Get the flare-removed image prediction\n",
    "    flare_removed_image = model.predict(flare_corrupted_image)\n",
    "\n",
    "    # Normalize the flare-removed image to [0, 1]\n",
    "    flare_removed_image_normalized = (flare_removed_image[0] - flare_removed_image[0].min()) / (flare_removed_image[0].max() - flare_removed_image[0].min())\n",
    "\n",
    "    # Save the flare-removed image with the same name as the input image in the output directory\n",
    "    output_image_path = os.path.join(output_directory, f'{image_name}')\n",
    "    plt.imsave(output_image_path, flare_removed_image_normalized)\n"
   ]
  },
  {
   "cell_type": "code",
   "execution_count": null,
   "id": "9b3e1fca",
   "metadata": {},
   "outputs": [],
   "source": []
  }
 ],
 "metadata": {
  "kernelspec": {
   "display_name": "Python 3 (ipykernel)",
   "language": "python",
   "name": "python3"
  },
  "language_info": {
   "codemirror_mode": {
    "name": "ipython",
    "version": 3
   },
   "file_extension": ".py",
   "mimetype": "text/x-python",
   "name": "python",
   "nbconvert_exporter": "python",
   "pygments_lexer": "ipython3",
   "version": "3.11.5"
  }
 },
 "nbformat": 4,
 "nbformat_minor": 5
}
